{
 "cells": [
  {
   "cell_type": "code",
   "execution_count": 1,
   "metadata": {},
   "outputs": [],
   "source": [
    "from datasets.datasets import UrbanSound8KDataset, get_data_loaders\n",
    "\n",
    "data_csv='/data/urbansound8k/UrbanSound8K.csv'\n",
    "root_dir='/data/urbansound8k'\n",
    "train_fold=[1,2,3,4,5,6,7,8]\n",
    "val_fold=[10]\n",
    "test_fold=[9]\n",
    "\n",
    "train_loader, val_loader, test_loader = get_data_loaders(data_csv, root_dir, train_fold, val_fold, test_fold, batch_size=32)"
   ]
  },
  {
   "cell_type": "code",
   "execution_count": null,
   "metadata": {},
   "outputs": [
    {
     "data": {
      "text/plain": [
       "<function DataLoader.__dir__()>"
      ]
     },
     "execution_count": 9,
     "metadata": {},
     "output_type": "execute_result"
    }
   ],
   "source": [
    "test_loader."
   ]
  },
  {
   "cell_type": "code",
   "execution_count": null,
   "metadata": {},
   "outputs": [
    {
     "data": {
      "text/plain": [
       "Counter({3: 100,\n",
       "         2: 100,\n",
       "         9: 100,\n",
       "         4: 100,\n",
       "         0: 100,\n",
       "         7: 96,\n",
       "         5: 93,\n",
       "         8: 83,\n",
       "         1: 33,\n",
       "         6: 32})"
      ]
     },
     "execution_count": 2,
     "metadata": {},
     "output_type": "execute_result"
    }
   ],
   "source": [
    "from collections import Counter\n",
    "\n",
    "all_labels = []\n",
    "for _, labels in test_loader:\n",
    "    all_labels.extend(labels.cpu().numpy())\n",
    "label_counts = Counter(all_labels)\n",
    "label_counts"
   ]
  },
  {
   "cell_type": "code",
   "execution_count": 9,
   "metadata": {},
   "outputs": [
    {
     "data": {
      "text/plain": [
       "Counter({0: 100,\n",
       "         3: 100,\n",
       "         4: 100,\n",
       "         2: 100,\n",
       "         9: 100,\n",
       "         5: 89,\n",
       "         7: 82,\n",
       "         8: 82,\n",
       "         1: 32,\n",
       "         6: 31})"
      ]
     },
     "execution_count": 9,
     "metadata": {},
     "output_type": "execute_result"
    }
   ],
   "source": [
    "from collections import Counter\n",
    "\n",
    "all_labels = []\n",
    "for _, labels in test_loader:\n",
    "    all_labels.extend(labels.cpu().numpy())\n",
    "label_counts = Counter(all_labels)\n",
    "label_counts"
   ]
  },
  {
   "cell_type": "code",
   "execution_count": null,
   "metadata": {},
   "outputs": [
    {
     "name": "stdout",
     "output_type": "stream",
     "text": [
      "Batch 1\n",
      "Data shape: torch.Size([32, 128, 84])\n",
      "Labels shape: torch.Size([32])\n",
      "File: 100032-3-0-0.wav\n",
      "Fold: 5\n",
      "Label: 0\n"
     ]
    }
   ],
   "source": [
    "import matplotlib.pyplot as plt\n",
    "import os\n",
    "# Fetch the first batch from the train_loader\n",
    "for batch_idx, (data, labels) in enumerate(train_loader):\n",
    "    # Print the shape of the data and labels\n",
    "    print(f\"Batch {batch_idx+1}\")\n",
    "    print(f\"Data shape: {data.shape}\")  # Should be [batch_size, 128, 84] if correct\n",
    "    print(f\"Labels shape: {labels.shape}\")\n",
    "    \n",
    "    # Take the first example in the batch\n",
    "    example_spectrogram = data[0].numpy()\n",
    "    example_label = labels[0].item()\n",
    "    \n",
    "    # Get the corresponding file information from the dataset annotations\n",
    "    annotation_idx = train_loader.dataset.annotations.index[batch_idx * len(data)]\n",
    "    file_name = train_loader.dataset.annotations.iloc[annotation_idx, 0]\n",
    "    fold_number = train_loader.dataset.annotations.iloc[annotation_idx, 5]\n",
    "    \n",
    "    # Print the file name, fold number, and label\n",
    "    print(f\"File: {file_name}\")\n",
    "    print(f\"Fold: {fold_number}\")\n",
    "    print(f\"Label: {example_label}\")\n",
    "    \n",
    "    # Plot the mel-spectrogram\n",
    "    plt.figure(figsize=(10, 4))\n",
    "    plt.imshow(example_spectrogram, aspect='auto', origin='lower')\n",
    "    plt.title(f\"Mel-Spectrogram Example - Label: {example_label}\")\n",
    "    plt.colorbar(format='%+2.0f dB')\n",
    "    plt.xlabel('Time')\n",
    "    plt.ylabel('Mel Frequency Bands')\n",
    "    \n",
    "    # Save the plot with detailed filename\n",
    "    save_path = f'/home/ilias/projects/adversarial_thesis/data/mel_spectrogram_fold{fold_number}_label{example_label}_{os.path.splitext(file_name)[0]}.png'\n",
    "    plt.savefig(save_path)\n",
    "    plt.close()\n",
    "    break"
   ]
  },
  {
   "cell_type": "code",
   "execution_count": 5,
   "metadata": {},
   "outputs": [
    {
     "name": "stderr",
     "output_type": "stream",
     "text": [
      "/tmp/ipykernel_44426/2441345227.py:5: FutureWarning: You are using `torch.load` with `weights_only=False` (the current default value), which uses the default pickle module implicitly. It is possible to construct malicious pickle data which will execute arbitrary code during unpickling (See https://github.com/pytorch/pytorch/blob/main/SECURITY.md#untrusted-models for more details). In a future release, the default value for `weights_only` will be flipped to `True`. This limits the functions that could be executed during unpickling. Arbitrary objects will no longer be allowed to be loaded via this mode unless they are explicitly allowlisted by the user via `torch.serialization.add_safe_globals`. We recommend you start setting `weights_only=True` for any use case where you don't have full control of the loaded file. Please open an issue on GitHub for any issues related to this experimental feature.\n",
      "  model.load_state_dict(torch.load('/home/ilias/projects/adversarial_thesis/models/baseline_cnn.pth'))\n"
     ]
    },
    {
     "data": {
      "text/plain": [
       "BaselineCNN(\n",
       "  (conv1): Conv2d(1, 16, kernel_size=(3, 3), stride=(1, 1), padding=(1, 1))\n",
       "  (conv2): Conv2d(16, 32, kernel_size=(3, 3), stride=(1, 1), padding=(1, 1))\n",
       "  (conv3): Conv2d(32, 64, kernel_size=(3, 3), stride=(1, 1), padding=(1, 1))\n",
       "  (pool): MaxPool2d(kernel_size=2, stride=2, padding=0, dilation=1, ceil_mode=False)\n",
       "  (fc1): Linear(in_features=10240, out_features=128, bias=True)\n",
       "  (fc2): Linear(in_features=128, out_features=10, bias=True)\n",
       "  (dropout): Dropout(p=0.5, inplace=False)\n",
       ")"
      ]
     },
     "execution_count": 5,
     "metadata": {},
     "output_type": "execute_result"
    }
   ],
   "source": [
    "from models.models import BaselineCNN\n",
    "import torch \n",
    "\n",
    "model = BaselineCNN(num_classes=10)\n",
    "model.load_state_dict(torch.load('/home/ilias/projects/adversarial_thesis/models/baseline_cnn.pth'))\n",
    "model.eval() "
   ]
  },
  {
   "cell_type": "code",
   "execution_count": 8,
   "metadata": {},
   "outputs": [
    {
     "name": "stdout",
     "output_type": "stream",
     "text": [
      "Testing model...\n"
     ]
    },
    {
     "name": "stderr",
     "output_type": "stream",
     "text": [
      "Evaluating:  27%|██▋       | 7/26 [00:01<00:03,  5.66it/s]/home/ilias/miniconda3/envs/adversarial_thesis/lib/python3.9/site-packages/librosa/core/spectrum.py:266: UserWarning: n_fft=4096 is too large for input signal of length=3749\n",
      "  warnings.warn(\n",
      "Evaluating: 100%|██████████| 26/26 [00:04<00:00,  5.67it/s]"
     ]
    },
    {
     "name": "stdout",
     "output_type": "stream",
     "text": [
      "Test Loss: 3.6728, Test Accuracy: 0.7537\n"
     ]
    },
    {
     "name": "stderr",
     "output_type": "stream",
     "text": [
      "\n"
     ]
    },
    {
     "data": {
      "text/plain": [
       "(3.6727507506910793, 0.7536764705882353)"
      ]
     },
     "execution_count": 8,
     "metadata": {},
     "output_type": "execute_result"
    }
   ],
   "source": [
    "from loops.trainer import test\n",
    "\n",
    "test(test_loader=test_loader, model=model, device = torch.device(\"cpu\"))"
   ]
  },
  {
   "cell_type": "code",
   "execution_count": null,
   "metadata": {},
   "outputs": [],
   "source": []
  }
 ],
 "metadata": {
  "kernelspec": {
   "display_name": "adversarial_thesis",
   "language": "python",
   "name": "python3"
  },
  "language_info": {
   "codemirror_mode": {
    "name": "ipython",
    "version": 3
   },
   "file_extension": ".py",
   "mimetype": "text/x-python",
   "name": "python",
   "nbconvert_exporter": "python",
   "pygments_lexer": "ipython3",
   "version": "3.9.19"
  }
 },
 "nbformat": 4,
 "nbformat_minor": 2
}
