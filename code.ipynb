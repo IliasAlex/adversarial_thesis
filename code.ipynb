{
 "cells": [
  {
   "cell_type": "code",
   "execution_count": null,
   "metadata": {},
   "outputs": [],
   "source": [
    "from datasets.datasets import UrbanSound8KDataset, get_data_loaders\n",
    "\n",
    "data_csv='/data/urbansound8k/UrbanSound8K.csv'\n",
    "root_dir='/data/urbansound8k'\n",
    "train_fold=[1,2,3,4,5,6,7,8]\n",
    "val_fold=[9]\n",
    "test_fold=[10]\n",
    "\n",
    "train_loader, val_loader, test_loader = get_data_loaders(data_csv, root_dir, train_fold, val_fold, test_fold, batch_size=32)"
   ]
  },
  {
   "cell_type": "code",
   "execution_count": null,
   "metadata": {},
   "outputs": [],
   "source": [
    "import matplotlib.pyplot as plt\n",
    "import os\n",
    "# Fetch the first batch from the train_loader\n",
    "for batch_idx, (data, labels) in enumerate(train_loader):\n",
    "    # Print the shape of the data and labels\n",
    "    print(f\"Batch {batch_idx+1}\")\n",
    "    print(f\"Data shape: {data.shape}\")  # Should be [batch_size, 128, 84] if correct\n",
    "    print(f\"Labels shape: {labels.shape}\")\n",
    "    \n",
    "    # Take the first example in the batch\n",
    "    example_spectrogram = data[0].numpy()\n",
    "    example_label = labels[0].item()\n",
    "    \n",
    "    # Get the corresponding file information from the dataset annotations\n",
    "    annotation_idx = train_loader.dataset.annotations.index[batch_idx * len(data)]\n",
    "    file_name = train_loader.dataset.annotations.iloc[annotation_idx, 0]\n",
    "    fold_number = train_loader.dataset.annotations.iloc[annotation_idx, 5]\n",
    "    \n",
    "    # Print the file name, fold number, and label\n",
    "    print(f\"File: {file_name}\")\n",
    "    print(f\"Fold: {fold_number}\")\n",
    "    print(f\"Label: {example_label}\")\n",
    "    \n",
    "    # Plot the mel-spectrogram\n",
    "    plt.figure(figsize=(10, 4))\n",
    "    plt.imshow(example_spectrogram, aspect='auto', origin='lower')\n",
    "    plt.title(f\"Mel-Spectrogram Example - Label: {example_label}\")\n",
    "    plt.colorbar(format='%+2.0f dB')\n",
    "    plt.xlabel('Time')\n",
    "    plt.ylabel('Mel Frequency Bands')\n",
    "    \n",
    "    # Save the plot with detailed filename\n",
    "    save_path = f'/home/ilias/projects/adversarial_thesis/data/mel_spectrogram_fold{fold_number}_label{example_label}_{os.path.splitext(file_name)[0]}.png'\n",
    "    plt.savefig(save_path)\n",
    "    plt.close()\n",
    "    break"
   ]
  }
 ],
 "metadata": {
  "language_info": {
   "name": "python"
  }
 },
 "nbformat": 4,
 "nbformat_minor": 2
}
